{
 "cells": [
  {
   "cell_type": "code",
   "execution_count": 67,
   "id": "4f39575b",
   "metadata": {},
   "outputs": [],
   "source": []
  },
  {
   "cell_type": "code",
   "execution_count": 71,
   "id": "9b0ac2ae",
   "metadata": {},
   "outputs": [
    {
     "name": "stdout",
     "output_type": "stream",
     "text": [
      "[[ 0.27 -0.4   0.32]\n",
      " [ 0.31  0.37 -0.61]\n",
      " [ 0.15  0.05 -0.39]]\n",
      "\n",
      "[ 0.24333333  0.00666667 -0.22666667]\n",
      "[ 0.24333333  0.00666667 -0.22666667]\n",
      "[ 0.06333333  0.02333333 -0.06333333]\n",
      "[[ 0.27  0.31  0.15]\n",
      " [-0.4   0.37  0.05]\n",
      " [ 0.32 -0.61 -0.39]]\n",
      "[[ 0.1915  0.0142 -0.1477]\n",
      " [ 0.0142  0.2994 -0.3932]\n",
      " [-0.1612 -0.3732  0.6426]]\n"
     ]
    }
   ],
   "source": [
    "import numpy as np\n",
    "\n",
    "a = np.array([[0.27, -0.4, 0.32], [0.31, 0.37, -0.61], [0.15, 0.05, -0.39]], dtype = np.float64)\n",
    "print(a)\n",
    "print()\n",
    "\n",
    "# average feature values(column)\n",
    "print(np.sum(a, axis = 0)/3)\n",
    "print(np.mean(a, axis = 0))\n",
    "# average feature values(row)\n",
    "print(np.sum(a, axis = 1)/3)\n",
    "print(np.mean(a, axis = 1))"
   ]
  },
  {
   "cell_type": "code",
   "execution_count": 64,
   "id": "28c977b3",
   "metadata": {},
   "outputs": [
    {
     "ename": "SyntaxError",
     "evalue": "invalid syntax (2116291748.py, line 8)",
     "output_type": "error",
     "traceback": [
      "\u001b[0;36m  File \u001b[0;32m\"/var/folders/x0/sdmkrwmd58q43wyjnxrkcs6h0000gn/T/ipykernel_18586/2116291748.py\"\u001b[0;36m, line \u001b[0;32m8\u001b[0m\n\u001b[0;31m    print(np.(a[0], ord = 2))\u001b[0m\n\u001b[0m             ^\u001b[0m\n\u001b[0;31mSyntaxError\u001b[0m\u001b[0;31m:\u001b[0m invalid syntax\n"
     ]
    }
   ],
   "source": [
    "import scipy\n",
    "from scipy import linalg\n",
    "#rows are orthogonal --> multipulation of each pair of rows is 0\n",
    "print(a[0].T @ a[1])\n",
    "print(a[0].T @ a[2])\n",
    "print(a[1].T @ a[2])\n",
    "#rows are orthonormal --> multipulation of each pair of rows is 0(orthogonal) + norm of each rwo vector is 1\n",
    "print(np.(a[0], ord = 2))\n",
    "\n"
   ]
  }
 ],
 "metadata": {
  "kernelspec": {
   "display_name": "Python 3 (ipykernel)",
   "language": "python",
   "name": "python3"
  },
  "language_info": {
   "codemirror_mode": {
    "name": "ipython",
    "version": 3
   },
   "file_extension": ".py",
   "mimetype": "text/x-python",
   "name": "python",
   "nbconvert_exporter": "python",
   "pygments_lexer": "ipython3",
   "version": "3.8.12"
  }
 },
 "nbformat": 4,
 "nbformat_minor": 5
}
