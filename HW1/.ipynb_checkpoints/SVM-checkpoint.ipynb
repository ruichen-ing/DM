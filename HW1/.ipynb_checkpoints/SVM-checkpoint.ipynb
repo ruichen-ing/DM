{
 "cells": [
  {
   "cell_type": "markdown",
   "metadata": {
    "id": "9j7ujrP53IaB"
   },
   "source": [
    "# Exercise 7: Support Vector Machines\n",
    "In this exercise, we will explore SVM kernels and study the effect of the hyperparameters on a toy dataset. "
   ]
  },
  {
   "cell_type": "code",
   "execution_count": 9,
   "metadata": {
    "id": "KtkyoCmV5wlo"
   },
   "outputs": [],
   "source": [
    "# Required libraries\n",
    "import matplotlib.pyplot as plt\n",
    "import seaborn as sns       \n",
    "import numpy as np\n",
    "import pandas as pd\n",
    "from sklearn.model_selection import GridSearchCV\n",
    "from sklearn import svm"
   ]
  },
  {
   "cell_type": "markdown",
   "metadata": {
    "id": "rllpAGW-3IaH"
   },
   "source": [
    "### **Data**\n",
    " "
   ]
  },
  {
   "cell_type": "markdown",
   "metadata": {
    "id": "rWk-JJFW4KTs"
   },
   "source": [
    "In the assignment .zip file, you can find a .csv file called toy_dataset.csv."
   ]
  },
  {
   "cell_type": "code",
   "execution_count": 19,
   "metadata": {
    "id": "30bSo-rY5ESy"
   },
   "outputs": [],
   "source": [
    "### ToDo\n",
    "## Import the data\n",
    "\n",
    "## Visualize the data to explore it\n"
   ]
  },
  {
   "cell_type": "code",
   "execution_count": 1,
   "metadata": {
    "id": "KpzwhAO3_B5d"
   },
   "outputs": [],
   "source": [
    "## Helper function to plot the decision boundary of a classifier. \n",
    "def plot_decision_svm(X, y, clf, kernel_name = 'Linear'):\n",
    "\n",
    "  # X -- The data points\n",
    "  # y -- The labels\n",
    "  # clf -- The classifier\n",
    "  # Kernel_name -- name of the kernel: string Linear, poly, RBF\n",
    "  ax = plt.subplot(1, 1, 1)\n",
    "  h = 0.05 # step size\n",
    "  x_min, x_max = X[:, 0].min() - .5, X[:, 0].max() + .5\n",
    "  y_min, y_max = X[:, 1].min() - .5, X[:, 1].max() + .5\n",
    "  xx, yy = np.meshgrid(np.arange(x_min, x_max, h),\n",
    "                        np.arange(y_min, y_max, h))\n",
    "  # Plot the decision boundary. For that, we will assign a color to each\n",
    "  # point in the mesh [x_min, x_max]x[y_min, y_max].\n",
    "  Z = clf.predict(np.c_[xx.ravel(), yy.ravel()])\n",
    "  Z = Z.reshape(xx.shape)\n",
    "  out = ax.contourf(xx, yy, Z, cmap=plt.cm.coolwarm, alpha=0.8)\n",
    "\n",
    "  # Plot the points\n",
    "  ax.scatter(X[:, 0], X[:, 1], c=y, cmap=plt.cm.bwr,\n",
    "              edgecolors='k')\n",
    "\n",
    "  ax.set_xlim(xx.min(), xx.max())\n",
    "  ax.set_ylim(yy.min(), yy.max())\n",
    "  #ax.set_xticks(())\n",
    "  #ax.set_yticks(())\n",
    "\n",
    "  ax.set_title(kernel_name)\n",
    "  plt.tight_layout()\n",
    "  plt.show()"
   ]
  },
  {
   "cell_type": "code",
   "execution_count": 2,
   "metadata": {
    "id": "ibqBBv57N7mG"
   },
   "outputs": [],
   "source": [
    "# Helper function to visualize the results of a grid search with the two hyperparameters of rbf kernel as a heatmap\n",
    "def heatmap(grid):\n",
    "    \"\"\"\n",
    "    grid --  GridSearchCV instance  \n",
    "    \"\"\"\n",
    "    pvt = pd.pivot_table(pd.DataFrame(grid.cv_results_),\n",
    "        values='mean_test_score', index='param_C', columns='param_gamma')\n",
    "    ax = sns.heatmap(pvt, annot=True)\n",
    "    ax.invert_yaxis()"
   ]
  },
  {
   "cell_type": "markdown",
   "metadata": {
    "id": "-yVjp8_WOBLj"
   },
   "source": [
    "### Compare SVM Kernels\n",
    " "
   ]
  },
  {
   "cell_type": "markdown",
   "metadata": {
    "id": "IKaG1dw8N294"
   },
   "source": [
    "\n",
    "*   Fit  SVM  with  linear,  polynomial  and  RBF  kernels  with  default parameter values\n",
    "\n",
    "\n",
    "*   Plot the decision boundary for each kernel with the helper function.\n",
    "\n",
    "*   Interpret the plots and compare the behavior of the three kernels."
   ]
  },
  {
   "cell_type": "code",
   "execution_count": 20,
   "metadata": {
    "id": "fH9GaAceJrEI"
   },
   "outputs": [],
   "source": [
    "##ToDo\n",
    "#Fit different kernels \n",
    "\n"
   ]
  },
  {
   "cell_type": "code",
   "execution_count": null,
   "metadata": {
    "id": "WRb0IDBaPcdn"
   },
   "outputs": [],
   "source": [
    "#Plot the decision boundary"
   ]
  },
  {
   "cell_type": "markdown",
   "metadata": {
    "id": "QCP0Nw1oPPDx"
   },
   "source": [
    "### Optimize rbf Kernel\n",
    " "
   ]
  },
  {
   "cell_type": "markdown",
   "metadata": {
    "id": "GECZomrcP5Av"
   },
   "source": [
    "* Create a grid with the following values: {\n",
    "         \n",
    "                        'gamma': [1e-4, 1e-3, 1e-2, 1e-1, 1, 2],\n",
    "                        \n",
    "                         'C': [1e-2, 1e-1, 1, 2, 5, 10]}\n",
    "* Use GridSearchCV with SVC(kernel='rbf') as classifier, and 3-fold-cross-validation(cv). \n"
   ]
  },
  {
   "cell_type": "code",
   "execution_count": 21,
   "metadata": {
    "id": "6pAU2tjHLKx5"
   },
   "outputs": [],
   "source": [
    "##ToDo\n"
   ]
  },
  {
   "cell_type": "markdown",
   "metadata": {
    "id": "St4OdCAuOp0n"
   },
   "source": [
    "*   Plot a heatmap of the results using the provided helper function.\n",
    "\n",
    "*   Interpret the heatmap. Analyze the effect of different values of hyperparameters. Does any combination of C and $\\gamma$ leads to underfitting or overfitting?\n",
    "*    Report the accuracy of the best model you get. State the hyperparameters used."
   ]
  },
  {
   "cell_type": "code",
   "execution_count": 21,
   "metadata": {
    "id": "wyIShzL8II0d"
   },
   "outputs": [],
   "source": [
    "##ToDo\n",
    "#Plot headmap of the result\n"
   ]
  }
 ],
 "metadata": {
  "colab": {
   "collapsed_sections": [],
   "name": "SVM.ipynb",
   "provenance": [],
   "toc_visible": true
  },
  "kernelspec": {
   "display_name": "Python 3 (ipykernel)",
   "language": "python",
   "name": "python3"
  },
  "language_info": {
   "codemirror_mode": {
    "name": "ipython",
    "version": 3
   },
   "file_extension": ".py",
   "mimetype": "text/x-python",
   "name": "python",
   "nbconvert_exporter": "python",
   "pygments_lexer": "ipython3",
   "version": "3.8.12"
  }
 },
 "nbformat": 4,
 "nbformat_minor": 1
}
