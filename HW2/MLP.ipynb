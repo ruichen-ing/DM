{
  "nbformat": 4,
  "nbformat_minor": 0,
  "metadata": {
    "colab": {
      "name": "MLP.ipynb",
      "provenance": [],
      "collapsed_sections": []
    },
    "kernelspec": {
      "name": "python3",
      "display_name": "Python 3"
    },
    "language_info": {
      "name": "python"
    }
  },
  "cells": [
    {
      "cell_type": "markdown",
      "metadata": {
        "id": "jMDM_8UF7jW_"
      },
      "source": [
        "# Question 6"
      ]
    },
    {
      "cell_type": "code",
      "metadata": {
        "id": "ENblnfHo9ZS5"
      },
      "source": [
        "# To DO \n",
        "# implement the activation and its derivative\n",
        "def activation(x):\n",
        "    return \n",
        "\n",
        "def activation_derivative(x):\n",
        "    return "
      ],
      "execution_count": 1,
      "outputs": []
    },
    {
      "cell_type": "code",
      "metadata": {
        "id": "fkinwPxR-tzB"
      },
      "source": [
        "# To DO \n",
        "# implement the loss its derivative\n",
        "def compute_loss(predicted_op, true_y):\n",
        "    loss = 0\n",
        "    return loss\n",
        "\n",
        "def loss_derivative(x):\n",
        "    return "
      ],
      "execution_count": 2,
      "outputs": []
    },
    {
      "cell_type": "code",
      "metadata": {
        "id": "SbtyV0Bh7ZmC"
      },
      "source": [
        "# TO DO \n",
        "# organize the training data into batches\n",
        "def make_batches(x_train, y_train, batch_size):\n",
        "\n",
        "    return x_batches, y_batches"
      ],
      "execution_count": 3,
      "outputs": []
    },
    {
      "cell_type": "code",
      "metadata": {
        "id": "6WPxFybEy0ML"
      },
      "source": [
        "# TO DO \n",
        "def forward_pass(x_batch, y_batch):\n",
        "\n",
        "  return predicted_op\n"
      ],
      "execution_count": 4,
      "outputs": []
    },
    {
      "cell_type": "code",
      "metadata": {
        "id": "5odxcSaWzP6c"
      },
      "source": [
        "# TO DO \n",
        "def backward_pass(loss):\n",
        "\n",
        "  return grads"
      ],
      "execution_count": 5,
      "outputs": []
    },
    {
      "cell_type": "code",
      "metadata": {
        "id": "Pxo61LUjzlB_"
      },
      "source": [
        "#TO DO\n",
        "def update_weights(weights, grads, lr):\n",
        "\n",
        "  return"
      ],
      "execution_count": 7,
      "outputs": []
    },
    {
      "cell_type": "code",
      "metadata": {
        "id": "zxDJLFXsE1-O"
      },
      "source": [
        "# To Do\n",
        "# define you stopping criteria for training\n",
        "def stopping_criteria():\n",
        "  stop = False\n",
        "  return stop"
      ],
      "execution_count": 8,
      "outputs": []
    },
    {
      "cell_type": "code",
      "metadata": {
        "id": "uv6XNf5WETxn"
      },
      "source": [
        "# TO DO\n",
        "# Define the hyperparameters. Add any additional hyperparameters you might need\n",
        "lr = 0  # learning rate\n",
        "batch_size = 0\n",
        "num_epochs = 0"
      ],
      "execution_count": 9,
      "outputs": []
    },
    {
      "cell_type": "code",
      "metadata": {
        "id": "oU6_R9PZEnFr"
      },
      "source": [
        "def train(x_train, y_train, lr, batch_size, num_epochs):\n",
        "\n",
        "  while not stopping_criteria():\n",
        "      # TO DO \n",
        "      # get a batch from the data\n",
        "      x_batch, y_batch = [], []\n",
        "\n",
        "      # forward the batch through the network layers\n",
        "      predicted_op = forward_pass(x_batch)\n",
        "\n",
        "      # compute the loss\n",
        "      loss = compute_loss(predicted_op, y_batch)\n",
        "\n",
        "      # perform backward pass\n",
        "      grads = backward_pass(loss)\n",
        "\n",
        "      # update the weights of the network\n",
        "      update_weights(network, grads, lr)\n"
      ],
      "execution_count": 10,
      "outputs": []
    },
    {
      "cell_type": "code",
      "metadata": {
        "id": "9RrDycnT_Nti"
      },
      "source": [
        ""
      ],
      "execution_count": null,
      "outputs": []
    }
  ]
}